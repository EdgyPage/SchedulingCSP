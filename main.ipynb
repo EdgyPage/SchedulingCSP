{
 "cells": [
  {
   "cell_type": "code",
   "execution_count": 1,
   "id": "c8927efa",
   "metadata": {},
   "outputs": [],
   "source": [
    "import employee as e\n",
    "import constraints as c\n",
    "import schedule as s\n",
    "\n",
    "import pandas as pd\n",
    "\n",
    "empDF = pd.read_excel('EmployeeDatabase.xlsx')\n",
    "employeeList = []\n",
    "\n",
    "for index, row in empDF.iterrows():\n",
    "    employee = e.Employee(row['ID'], row['Name'], row.iloc[2:].to_list())\n",
    "    employeeList.append(employee)\n",
    "\n",
    "maxSchedules = 1000\n",
    "minimums = [70, 5, 5, 5, 4, 3, 1]\n",
    "constraints = c.Constraints(minimums)\n",
    "schedule = s.Schedule(employeeList, constraints, maxSchedules)"
   ]
  },
  {
   "cell_type": "code",
   "execution_count": 2,
   "id": "71a9b0f2",
   "metadata": {},
   "outputs": [],
   "source": [
    "schedule.assignUnqualifiedEmployees()\n",
    "schedule.findAssignment(schedule.employeesToAssign)"
   ]
  },
  {
   "cell_type": "code",
   "execution_count": 3,
   "id": "929297bd",
   "metadata": {},
   "outputs": [
    {
     "name": "stdout",
     "output_type": "stream",
     "text": [
      "1000\n",
      "1000\n"
     ]
    }
   ],
   "source": [
    "print(len(schedule.validSchedules))\n",
    "\n",
    "list_of_dicts = [taskAssignment for taskAssignment in schedule.validSchedules]\n",
    "\n",
    "# Convert to a normalized hashable form\n",
    "def dict_to_tuple_unordered_lists(d):\n",
    "    return tuple(sorted((k, tuple(sorted(v))) for k, v in d.items()))\n",
    "\n",
    "\n",
    "# Make a set of the hashable representations\n",
    "set_of_dicts = set(dict_to_tuple_unordered_lists(d) for d in list_of_dicts)\n",
    "\n",
    "# Optionally, convert back to dicts (if needed)\n",
    "unique_dicts = [dict((k, list(v)) for k, v in t) for t in set_of_dicts]\n",
    "\n",
    "print(len(unique_dicts))"
   ]
  }
 ],
 "metadata": {
  "kernelspec": {
   "display_name": "Python 3",
   "language": "python",
   "name": "python3"
  },
  "language_info": {
   "codemirror_mode": {
    "name": "ipython",
    "version": 3
   },
   "file_extension": ".py",
   "mimetype": "text/x-python",
   "name": "python",
   "nbconvert_exporter": "python",
   "pygments_lexer": "ipython3",
   "version": "3.11.4"
  }
 },
 "nbformat": 4,
 "nbformat_minor": 5
}
