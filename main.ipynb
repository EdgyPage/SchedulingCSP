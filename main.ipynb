{
 "cells": [
  {
   "cell_type": "code",
   "execution_count": null,
   "id": "c8927efa",
   "metadata": {},
   "outputs": [],
   "source": [
    "import employee as e\n",
    "import constraints as c\n",
    "import schedule as s\n",
    "\n",
    "import pandas as pd\n",
    "\n",
    "empDF = pd.read_excel('EmployeeDatabase.xlsx')\n",
    "employeeList = []\n",
    "validSchedules = []\n",
    "\n",
    "for index, row in empDF.iterrows():\n",
    "    employee = e.Employee(row['ID'], row['Name'], row.iloc[2:].to_list())\n",
    "    employeeList.append(employee)\n",
    "\n",
    "minimums = [70, 5, 5, 5, 4, 3, 1]\n",
    "constraints = c.Constraints(minimums)\n",
    "schedule = s.Schedule(employeeList, constraints)"
   ]
  },
  {
   "cell_type": "code",
   "execution_count": 2,
   "id": "00eee092",
   "metadata": {},
   "outputs": [
    {
     "name": "stdout",
     "output_type": "stream",
     "text": [
      "{'task0': [], 'task1': [], 'task2': [], 'task3': [], 'task4': [], 'task5': [], 'task6': [], 'task7': []}\n"
     ]
    }
   ],
   "source": [
    "print(schedule._taskAssignments)"
   ]
  },
  {
   "cell_type": "code",
   "execution_count": 6,
   "id": "71a9b0f2",
   "metadata": {},
   "outputs": [
    {
     "name": "stdout",
     "output_type": "stream",
     "text": [
      "Recursing with 2 employees left.\n",
      "Recursing with 1 employees left.\n"
     ]
    }
   ],
   "source": [
    "\n",
    "schedule.findAssignment(employeeList, validSchedules)"
   ]
  },
  {
   "cell_type": "code",
   "execution_count": null,
   "id": "5ff1fdfd",
   "metadata": {},
   "outputs": [
    {
     "ename": "IndexError",
     "evalue": "list index out of range",
     "output_type": "error",
     "traceback": [
      "\u001b[1;31m---------------------------------------------------------------------------\u001b[0m",
      "\u001b[1;31mIndexError\u001b[0m                                Traceback (most recent call last)",
      "Cell \u001b[1;32mIn[4], line 1\u001b[0m\n\u001b[1;32m----> 1\u001b[0m \u001b[43mvalidSchedules\u001b[49m\u001b[43m[\u001b[49m\u001b[38;5;241;43m1\u001b[39;49m\u001b[43m]\u001b[49m\u001b[38;5;241m.\u001b[39mtaskAssignments\n",
      "\u001b[1;31mIndexError\u001b[0m: list index out of range"
     ]
    }
   ],
   "source": [
    "validSchedules[].taskAssignments"
   ]
  }
 ],
 "metadata": {
  "kernelspec": {
   "display_name": "Python 3",
   "language": "python",
   "name": "python3"
  },
  "language_info": {
   "codemirror_mode": {
    "name": "ipython",
    "version": 3
   },
   "file_extension": ".py",
   "mimetype": "text/x-python",
   "name": "python",
   "nbconvert_exporter": "python",
   "pygments_lexer": "ipython3",
   "version": "3.11.4"
  }
 },
 "nbformat": 4,
 "nbformat_minor": 5
}
