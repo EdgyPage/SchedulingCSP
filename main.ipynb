{
 "cells": [
  {
   "cell_type": "code",
   "execution_count": 1,
   "id": "c8927efa",
   "metadata": {},
   "outputs": [],
   "source": [
    "import employee as e\n",
    "import constraints as c\n",
    "import schedule as s\n",
    "\n",
    "import pandas as pd\n",
    "\n",
    "empDF = pd.read_excel('EmployeeDatabase.xlsx')\n",
    "employeeList = []\n",
    "validSchedules = []\n",
    "\n",
    "for index, row in empDF.iterrows():\n",
    "    employee = e.Employee(row['ID'], row['Name'], row.iloc[2:].to_list())\n",
    "    employeeList.append(employee)\n",
    "\n",
    "minimums = [15, 26, 10, 10, 10, 5, 5]\n",
    "constraints = c.Constraints(minimums)\n",
    "schedule = s.Schedule(employeeList, constraints)"
   ]
  },
  {
   "cell_type": "code",
   "execution_count": 2,
   "id": "00eee092",
   "metadata": {},
   "outputs": [
    {
     "name": "stdout",
     "output_type": "stream",
     "text": [
      "{'task0': [], 'task1': [], 'task2': [], 'task3': [], 'task4': [], 'task5': [], 'task6': [], 'task7': []}\n"
     ]
    }
   ],
   "source": [
    "print(schedule._taskAssignments)"
   ]
  },
  {
   "cell_type": "code",
   "execution_count": 4,
   "id": "71a9b0f2",
   "metadata": {},
   "outputs": [
    {
     "ename": "KeyboardInterrupt",
     "evalue": "",
     "output_type": "error",
     "traceback": [
      "\u001b[1;31m---------------------------------------------------------------------------\u001b[0m",
      "\u001b[1;31mKeyboardInterrupt\u001b[0m                         Traceback (most recent call last)",
      "Cell \u001b[1;32mIn[4], line 1\u001b[0m\n\u001b[1;32m----> 1\u001b[0m \u001b[43mschedule\u001b[49m\u001b[38;5;241;43m.\u001b[39;49m\u001b[43mfindAssignment\u001b[49m\u001b[43m(\u001b[49m\u001b[43memployeeList\u001b[49m\u001b[43m,\u001b[49m\u001b[43m \u001b[49m\u001b[43m[\u001b[49m\u001b[43m]\u001b[49m\u001b[43m)\u001b[49m\n",
      "File \u001b[1;32mc:\\Users\\myfir\\Code and Repos\\SchedulingCSP\\schedule.py:138\u001b[0m, in \u001b[0;36mSchedule.findAssignment\u001b[1;34m(self, employees, validSchedules)\u001b[0m\n\u001b[0;32m    136\u001b[0m \u001b[38;5;28;01mif\u001b[39;00m \u001b[38;5;28mself\u001b[39m\u001b[38;5;241m.\u001b[39mfullTest():\n\u001b[0;32m    137\u001b[0m      validSchedules\u001b[38;5;241m.\u001b[39mappend(copy\u001b[38;5;241m.\u001b[39mdeepcopy(\u001b[38;5;28mself\u001b[39m))\n\u001b[1;32m--> 138\u001b[0m \u001b[38;5;28;43mself\u001b[39;49m\u001b[38;5;241;43m.\u001b[39;49m\u001b[43mfindAssignment\u001b[49m\u001b[43m(\u001b[49m\u001b[43mupdateEmployees\u001b[49m\u001b[43m,\u001b[49m\u001b[43m \u001b[49m\u001b[43mvalidSchedules\u001b[49m\u001b[43m)\u001b[49m\n",
      "File \u001b[1;32mc:\\Users\\myfir\\Code and Repos\\SchedulingCSP\\schedule.py:138\u001b[0m, in \u001b[0;36mSchedule.findAssignment\u001b[1;34m(self, employees, validSchedules)\u001b[0m\n\u001b[0;32m    136\u001b[0m \u001b[38;5;28;01mif\u001b[39;00m \u001b[38;5;28mself\u001b[39m\u001b[38;5;241m.\u001b[39mfullTest():\n\u001b[0;32m    137\u001b[0m      validSchedules\u001b[38;5;241m.\u001b[39mappend(copy\u001b[38;5;241m.\u001b[39mdeepcopy(\u001b[38;5;28mself\u001b[39m))\n\u001b[1;32m--> 138\u001b[0m \u001b[38;5;28;43mself\u001b[39;49m\u001b[38;5;241;43m.\u001b[39;49m\u001b[43mfindAssignment\u001b[49m\u001b[43m(\u001b[49m\u001b[43mupdateEmployees\u001b[49m\u001b[43m,\u001b[49m\u001b[43m \u001b[49m\u001b[43mvalidSchedules\u001b[49m\u001b[43m)\u001b[49m\n",
      "    \u001b[1;31m[... skipping similar frames: Schedule.findAssignment at line 138 (125 times)]\u001b[0m\n",
      "File \u001b[1;32mc:\\Users\\myfir\\Code and Repos\\SchedulingCSP\\schedule.py:138\u001b[0m, in \u001b[0;36mSchedule.findAssignment\u001b[1;34m(self, employees, validSchedules)\u001b[0m\n\u001b[0;32m    136\u001b[0m \u001b[38;5;28;01mif\u001b[39;00m \u001b[38;5;28mself\u001b[39m\u001b[38;5;241m.\u001b[39mfullTest():\n\u001b[0;32m    137\u001b[0m      validSchedules\u001b[38;5;241m.\u001b[39mappend(copy\u001b[38;5;241m.\u001b[39mdeepcopy(\u001b[38;5;28mself\u001b[39m))\n\u001b[1;32m--> 138\u001b[0m \u001b[38;5;28;43mself\u001b[39;49m\u001b[38;5;241;43m.\u001b[39;49m\u001b[43mfindAssignment\u001b[49m\u001b[43m(\u001b[49m\u001b[43mupdateEmployees\u001b[49m\u001b[43m,\u001b[49m\u001b[43m \u001b[49m\u001b[43mvalidSchedules\u001b[49m\u001b[43m)\u001b[49m\n",
      "File \u001b[1;32mc:\\Users\\myfir\\Code and Repos\\SchedulingCSP\\schedule.py:136\u001b[0m, in \u001b[0;36mSchedule.findAssignment\u001b[1;34m(self, employees, validSchedules)\u001b[0m\n\u001b[0;32m    134\u001b[0m key \u001b[38;5;241m=\u001b[39m \u001b[38;5;28mlist\u001b[39m(\u001b[38;5;28mself\u001b[39m\u001b[38;5;241m.\u001b[39mtaskAssignments\u001b[38;5;241m.\u001b[39mkeys())[\u001b[38;5;241m0\u001b[39m]\n\u001b[0;32m    135\u001b[0m \u001b[38;5;28mself\u001b[39m\u001b[38;5;241m.\u001b[39mtaskAssignments[key]\u001b[38;5;241m.\u001b[39mappend(employee)\n\u001b[1;32m--> 136\u001b[0m \u001b[38;5;28;01mif\u001b[39;00m \u001b[38;5;28;43mself\u001b[39;49m\u001b[38;5;241;43m.\u001b[39;49m\u001b[43mfullTest\u001b[49m\u001b[43m(\u001b[49m\u001b[43m)\u001b[49m:\n\u001b[0;32m    137\u001b[0m      validSchedules\u001b[38;5;241m.\u001b[39mappend(copy\u001b[38;5;241m.\u001b[39mdeepcopy(\u001b[38;5;28mself\u001b[39m))\n\u001b[0;32m    138\u001b[0m \u001b[38;5;28mself\u001b[39m\u001b[38;5;241m.\u001b[39mfindAssignment(updateEmployees, validSchedules)\n",
      "File \u001b[1;32mc:\\Users\\myfir\\Code and Repos\\SchedulingCSP\\schedule.py:107\u001b[0m, in \u001b[0;36mSchedule.fullTest\u001b[1;34m(self)\u001b[0m\n\u001b[0;32m    105\u001b[0m results \u001b[38;5;241m=\u001b[39m {}\n\u001b[0;32m    106\u001b[0m \u001b[38;5;28;01mfor\u001b[39;00m name \u001b[38;5;129;01min\u001b[39;00m \u001b[38;5;28mdir\u001b[39m(\u001b[38;5;28mself\u001b[39m):\n\u001b[1;32m--> 107\u001b[0m      method \u001b[38;5;241m=\u001b[39m \u001b[38;5;28mgetattr\u001b[39m(\u001b[38;5;28mself\u001b[39m, name)\n\u001b[0;32m    108\u001b[0m      \u001b[38;5;28;01mif\u001b[39;00m \u001b[38;5;28mcallable\u001b[39m(method) \u001b[38;5;129;01mand\u001b[39;00m \u001b[38;5;28mgetattr\u001b[39m(method, \u001b[38;5;124m'\u001b[39m\u001b[38;5;124misFullTest\u001b[39m\u001b[38;5;124m'\u001b[39m, \u001b[38;5;28;01mFalse\u001b[39;00m):\n\u001b[0;32m    109\u001b[0m           results[name] \u001b[38;5;241m=\u001b[39m method()\n",
      "\u001b[1;31mKeyboardInterrupt\u001b[0m: "
     ]
    }
   ],
   "source": [
    "schedule.findAssignment(employeeList, [])"
   ]
  },
  {
   "cell_type": "code",
   "execution_count": 5,
   "id": "5ff1fdfd",
   "metadata": {},
   "outputs": [
    {
     "data": {
      "text/plain": [
       "[]"
      ]
     },
     "execution_count": 5,
     "metadata": {},
     "output_type": "execute_result"
    }
   ],
   "source": [
    "validSchedules"
   ]
  }
 ],
 "metadata": {
  "kernelspec": {
   "display_name": "Python 3",
   "language": "python",
   "name": "python3"
  },
  "language_info": {
   "codemirror_mode": {
    "name": "ipython",
    "version": 3
   },
   "file_extension": ".py",
   "mimetype": "text/x-python",
   "name": "python",
   "nbconvert_exporter": "python",
   "pygments_lexer": "ipython3",
   "version": "3.11.4"
  }
 },
 "nbformat": 4,
 "nbformat_minor": 5
}
